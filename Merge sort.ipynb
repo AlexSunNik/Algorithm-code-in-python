{
 "cells": [
  {
   "cell_type": "code",
   "execution_count": 48,
   "metadata": {},
   "outputs": [],
   "source": [
    "def merge(a,b):\n",
    "    c=[]\n",
    "    while len(a)!=0 and len(b)!=0:\n",
    "        if(a[0]<b[0]):\n",
    "            c.append(a.pop(0))\n",
    "        else:\n",
    "            c.append(b.pop(0))\n",
    "    if len(a)==0:\n",
    "        c+=b\n",
    "    else:\n",
    "        c+=a\n",
    "    \n",
    "    return c"
   ]
  },
  {
   "cell_type": "code",
   "execution_count": 52,
   "metadata": {},
   "outputs": [],
   "source": [
    "def mergeSort(arr):\n",
    "    if len(arr)==0 or len(arr)==1:\n",
    "        return arr\n",
    "    else:\n",
    "        m=len(arr)\n",
    "        if m%2 !=0:\n",
    "            m=m-1\n",
    "        \n",
    "        midPos=int(m/2)\n",
    "        firstHalf=mergeSort(arr[:midPos])\n",
    "        secondHalf=mergeSort(arr[midPos:])\n",
    "        return merge(firstHalf,secondHalf)"
   ]
  },
  {
   "cell_type": "code",
   "execution_count": 53,
   "metadata": {},
   "outputs": [
    {
     "data": {
      "text/plain": [
       "[1, 3, 4, 5, 6, 7, 9]"
      ]
     },
     "execution_count": 53,
     "metadata": {},
     "output_type": "execute_result"
    }
   ],
   "source": [
    "mergeSort([1,5,6,7,3,4,9])"
   ]
  },
  {
   "cell_type": "code",
   "execution_count": null,
   "metadata": {},
   "outputs": [],
   "source": []
  }
 ],
 "metadata": {
  "kernelspec": {
   "display_name": "Python 3",
   "language": "python",
   "name": "python3"
  },
  "language_info": {
   "codemirror_mode": {
    "name": "ipython",
    "version": 3
   },
   "file_extension": ".py",
   "mimetype": "text/x-python",
   "name": "python",
   "nbconvert_exporter": "python",
   "pygments_lexer": "ipython3",
   "version": "3.6.8"
  }
 },
 "nbformat": 4,
 "nbformat_minor": 2
}
