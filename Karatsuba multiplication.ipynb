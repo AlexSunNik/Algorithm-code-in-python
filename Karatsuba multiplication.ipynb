{
 "cells": [
  {
   "cell_type": "code",
   "execution_count": 22,
   "metadata": {},
   "outputs": [],
   "source": [
    "def karatsuba(x,y):\n",
    "    if x<10 or y<10:\n",
    "        return x*y\n",
    "    m=max(len(str(x)),len(str(y)))\n",
    "    \n",
    "    if m%2 != 0:\n",
    "        m-=1\n",
    "    power=m/2\n",
    "    \n",
    "    a,b=divmod(x,10**power)\n",
    "    c,d=divmod(y,10**power)\n",
    "    \n",
    "    ac=karatsuba(a,c)\n",
    "    bd=karatsuba(b,d)\n",
    "    midTerm=karatsuba(a+b,c+d)-ac-bd\n",
    "    \n",
    "    return ac*10**m+midTerm*10**power+bd"
   ]
  },
  {
   "cell_type": "code",
   "execution_count": 23,
   "metadata": {},
   "outputs": [
    {
     "name": "stdout",
     "output_type": "stream",
     "text": [
      "First number?12\n",
      "Second number?12\n"
     ]
    }
   ],
   "source": [
    "x=int(input(\"First number?\"))\n",
    "y=int(input(\"Second number?\"))"
   ]
  },
  {
   "cell_type": "code",
   "execution_count": 24,
   "metadata": {},
   "outputs": [
    {
     "name": "stdout",
     "output_type": "stream",
     "text": [
      "144.0\n"
     ]
    }
   ],
   "source": [
    "print(karatsuba(x,y))"
   ]
  }
 ],
 "metadata": {
  "kernelspec": {
   "display_name": "Python 3",
   "language": "python",
   "name": "python3"
  },
  "language_info": {
   "codemirror_mode": {
    "name": "ipython",
    "version": 3
   },
   "file_extension": ".py",
   "mimetype": "text/x-python",
   "name": "python",
   "nbconvert_exporter": "python",
   "pygments_lexer": "ipython3",
   "version": "3.6.8"
  }
 },
 "nbformat": 4,
 "nbformat_minor": 2
}
